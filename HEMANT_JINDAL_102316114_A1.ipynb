{
 "cells": [
  {
   "cell_type": "markdown",
   "metadata": {
    "id": "-94y47vJdGJy"
   },
   "source": []
  },
  {
   "cell_type": "code",
   "execution_count": 1,
   "metadata": {
    "colab": {
     "base_uri": "https://localhost:8080/"
    },
    "executionInfo": {
     "elapsed": 33841,
     "status": "ok",
     "timestamp": 1737466814718,
     "user": {
      "displayName": "Tanish Singla",
      "userId": "01609676373732844949"
     },
     "user_tz": -330
    },
    "id": "fkgzgwL8Fvx1",
    "outputId": "64d10fca-214a-45ae-ed63-7a31ab63b8f5"
   },
   "outputs": [
    {
     "name": "stdout",
     "output_type": "stream",
     "text": [
      "Mounted at /content/drive\n"
     ]
    }
   ],
   "source": [
    "from google.colab import drive\n",
    "drive.mount('/content/drive')"
   ]
  },
  {
   "cell_type": "code",
   "execution_count": 1,
   "metadata": {
    "id": "aUZUfDmZd0LD"
   },
   "outputs": [
    {
     "name": "stdout",
     "output_type": "stream",
     "text": [
      "Subject-wise statistics:\n",
      "Maths -> Highest: 93, Lowest: 67, Average: 81.30\n",
      "Science -> Highest: 89, Lowest: 68, Average: 78.80\n",
      "English -> Highest: 95, Lowest: 70, Average: 83.90\n",
      "It -> Highest: 96, Lowest: 68, Average: 81.80\n",
      "\n",
      "Overall statistics:\n",
      "Highest: 370, Lowest: 289, Average: 325.80\n"
     ]
    }
   ],
   "source": [
    "#Q1\n",
    "\n",
    "data = [\n",
    "    {\"name\": \"Student 1\", \"maths\": 85, \"science\": 78, \"english\": 92, \"it\": 88},\n",
    "    {\"name\": \"Student 2\", \"maths\": 67, \"science\": 72, \"english\": 70, \"it\": 80},\n",
    "    {\"name\": \"Student 3\", \"maths\": 91, \"science\": 89, \"english\": 94, \"it\": 96},\n",
    "    {\"name\": \"Student 4\", \"maths\": 75, \"science\": 68, \"english\": 78, \"it\": 72},\n",
    "    {\"name\": \"Student 5\", \"maths\": 82, \"science\": 81, \"english\": 86, \"it\": 79},\n",
    "    {\"name\": \"Student 6\", \"maths\": 88, \"science\": 76, \"english\": 81, \"it\": 84},\n",
    "    {\"name\": \"Student 7\", \"maths\": 93, \"science\": 88, \"english\": 95, \"it\": 91},\n",
    "    {\"name\": \"Student 8\", \"maths\": 71, \"science\": 75, \"english\": 79, \"it\": 68},\n",
    "    {\"name\": \"Student 9\", \"maths\": 77, \"science\": 82, \"english\": 84, \"it\": 83},\n",
    "    {\"name\": \"Student 10\", \"maths\": 84, \"science\": 79, \"english\": 80, \"it\": 77},\n",
    "]\n",
    "\n",
    "subjects = [\"maths\", \"science\", \"english\", \"it\"]\n",
    "subject_stats = {}\n",
    "overall_marks = []\n",
    "\n",
    "for subject in subjects:\n",
    "    marks = [student[subject] for student in data]\n",
    "    highest = max(marks)\n",
    "    lowest = min(marks)\n",
    "    average = sum(marks) / len(marks)\n",
    "    subject_stats[subject] = {\"highest\": highest, \"lowest\": lowest, \"average\": average}\n",
    "\n",
    "for student in data:\n",
    "    overall_marks.append(student[\"maths\"] + student[\"science\"] + student[\"english\"] + student[\"it\"])\n",
    "\n",
    "overall_highest = max(overall_marks)\n",
    "overall_lowest = min(overall_marks)\n",
    "overall_average = sum(overall_marks) / len(overall_marks)\n",
    "\n",
    "print(\"Subject-wise statistics:\")\n",
    "for subject, stats in subject_stats.items():\n",
    "    print(f\"{subject.capitalize()} -> Highest: {stats['highest']}, Lowest: {stats['lowest']}, Average: {stats['average']:.2f}\")\n",
    "\n",
    "print(\"\\nOverall statistics:\")\n",
    "print(f\"Highest: {overall_highest}, Lowest: {overall_lowest}, Average: {overall_average:.2f}\")\n",
    "\n"
   ]
  },
  {
   "cell_type": "code",
   "execution_count": 2,
   "metadata": {
    "id": "60pWY-aMhkrx"
   },
   "outputs": [
    {
     "name": "stdout",
     "output_type": "stream",
     "text": [
      "Gross Salary: 43000.00\n"
     ]
    }
   ],
   "source": [
    "#Q2\n",
    "\n",
    "\n",
    "basic_salary = float(input(\"Enter the basic salary: \"))\n",
    "\n",
    "\n",
    "if basic_salary <= 10000:\n",
    "    hra = basic_salary * 0.20\n",
    "    da = basic_salary * 0.80\n",
    "elif basic_salary <= 20000:\n",
    "    hra = basic_salary * 0.25\n",
    "    da = basic_salary * 0.90\n",
    "else:\n",
    "    hra = basic_salary * 0.30\n",
    "    da = basic_salary * 0.95\n",
    "\n",
    "\n",
    "gross_salary = basic_salary + hra + da\n",
    "\n",
    "\n",
    "print(f\"Gross Salary: {gross_salary:.2f}\")\n"
   ]
  },
  {
   "cell_type": "code",
   "execution_count": 5,
   "metadata": {
    "id": "9hH7pgFjio-2"
   },
   "outputs": [
    {
     "name": "stdout",
     "output_type": "stream",
     "text": [
      "Valid Password\n"
     ]
    }
   ],
   "source": [
    "#Q3\n",
    "\n",
    "import re\n",
    "\n",
    "def validate_password(password):\n",
    "    if (6 <= len(password) <= 16 and\n",
    "        re.search(\"[a-z]\", password) and\n",
    "        re.search(\"[A-Z]\", password) and\n",
    "        re.search(\"[0-9]\", password) and\n",
    "        re.search(\"[$#@]\", password)):\n",
    "        return \"Valid Password\"\n",
    "    else:\n",
    "        return \"Invalid Password\"\n",
    "\n",
    "password = input(\"Enter a password: \")\n",
    "print(validate_password(password))\n"
   ]
  },
  {
   "cell_type": "code",
   "execution_count": 6,
   "metadata": {
    "colab": {
     "base_uri": "https://localhost:8080/"
    },
    "executionInfo": {
     "elapsed": 471,
     "status": "ok",
     "timestamp": 1737021857226,
     "user": {
      "displayName": "Aayushman Singh Chandel",
      "userId": "02293675264385046831"
     },
     "user_tz": -330
    },
    "id": "9oKU7EG5kB55",
    "outputId": "54fdfed0-abc5-448b-efcb-728461ea797f"
   },
   "outputs": [
    {
     "name": "stdout",
     "output_type": "stream",
     "text": [
      "Final ->  [300, 200, 80, 70, 60, 50, 40, 20]\n"
     ]
    }
   ],
   "source": [
    "#Q4\n",
    "\n",
    "\n",
    "L = [10, 20, 30, 40, 50, 60, 70, 80]\n",
    "L.append(200)\n",
    "L.append(300)\n",
    "L.remove(10)\n",
    "L.remove(30)\n",
    "L.sort()\n",
    "L.sort(reverse=True)\n",
    "print(\"Final -> \", L)\n"
   ]
  },
  {
   "cell_type": "code",
   "execution_count": 11,
   "metadata": {
    "id": "vC9Yq7vckf_r"
   },
   "outputs": [
    {
     "name": "stdout",
     "output_type": "stream",
     "text": [
      "True\n",
      "5\n",
      "One Three Four Five Six\n"
     ]
    }
   ],
   "source": [
    "#Q5\n",
    "\n",
    "D = {1: \"One\", 2: \"Two\", 3: \"Three\", 4: \"Four\", 5: \"Five\"}\n",
    "D[6] = \"Six\"\n",
    "\n",
    "D.pop(2)\n",
    "print(6 in D)\n",
    "print(len(D))\n",
    "values_sum = \" \".join(D.values())\n",
    "print(values_sum)\n"
   ]
  },
  {
   "cell_type": "code",
   "execution_count": 12,
   "metadata": {
    "id": "neJtjSuvoerI"
   },
   "outputs": [
    {
     "name": "stdout",
     "output_type": "stream",
     "text": [
      "[333, 579, 659, 663, 509, 207, 201, 713, 481, 627, 693, 211, 879, 165, 171, 153, 861, 309, 851, 129, 599, 547, 775, 569, 585, 655, 557, 597, 621, 663, 169, 781, 199, 187, 825, 487, 325, 717, 287, 169, 719, 167]\n",
      "[740, 488, 622, 898, 222, 840, 740, 870, 448, 252, 356, 450, 874, 150, 396, 682, 466, 124, 378, 142, 586, 506, 484, 218, 408, 554, 452, 832, 538, 780, 794, 898, 328, 518, 380, 688, 316, 780, 130, 392, 370, 650, 732, 846, 410, 194, 224, 598, 584, 262, 716, 350, 838, 240, 132, 556, 244, 670]\n",
      "[659, 509, 211, 599, 547, 569, 557, 199, 487, 719, 167]\n"
     ]
    }
   ],
   "source": [
    "#Q6\n",
    "\n",
    "import random\n",
    "\n",
    "numbers = [random.randint(100, 900) for _ in range(100)]\n",
    "odd_numbers = [num for num in numbers if num % 2 != 0]\n",
    "even_numbers = [num for num in numbers if num % 2 == 0]\n",
    "\n",
    "def is_prime(n):\n",
    "    if n < 2:\n",
    "        return False\n",
    "    for i in range(2, int(n**0.5) + 1):\n",
    "        if n % i == 0:\n",
    "            return False\n",
    "    return True\n",
    "\n",
    "prime_numbers = [num for num in numbers if is_prime(num)]\n",
    "\n",
    "print(odd_numbers)\n",
    "print(even_numbers)\n",
    "print(prime_numbers)\n"
   ]
  },
  {
   "cell_type": "code",
   "execution_count": 3,
   "metadata": {
    "id": "CXvnaoltrgBe"
   },
   "outputs": [
    {
     "name": "stdout",
     "output_type": "stream",
     "text": [
      "Principal: 10000\n",
      "Rate of Interest: 5\n",
      "Time: 2\n",
      "Compound Interest: 1025.0\n",
      "Total Amount: 11025.0\n"
     ]
    }
   ],
   "source": [
    "#Q7\n",
    "\n",
    "def compound_interest(principal, rate, time):\n",
    "    amount = principal\n",
    "    for _ in range(time):\n",
    "        amount += amount * (rate / 100)\n",
    "    return amount\n",
    "\n",
    "\n",
    "principal = 10000\n",
    "rate = 5\n",
    "time = 2\n",
    "\n",
    "\n",
    "total_amount = compound_interest(principal, rate, time)\n",
    "ci = total_amount - principal\n",
    "\n",
    "\n",
    "print(\"Principal:\", principal)\n",
    "print(\"Rate of Interest:\", rate)\n",
    "print(\"Time:\", time)\n",
    "print(\"Compound Interest:\", round(ci, 2))\n",
    "print(\"Total Amount:\", round(total_amount, 2))\n"
   ]
  },
  {
   "cell_type": "code",
   "execution_count": 13,
   "metadata": {
    "colab": {
     "base_uri": "https://localhost:8080/"
    },
    "executionInfo": {
     "elapsed": 825,
     "status": "ok",
     "timestamp": 1737174466397,
     "user": {
      "displayName": "Aayushman Singh Chandel",
      "userId": "02293675264385046831"
     },
     "user_tz": -330
    },
    "id": "lNWXyDw1oe3_",
    "outputId": "32c5fe3d-2a4f-40e2-881c-2b75a7baa19c"
   },
   "outputs": [
    {
     "name": "stdout",
     "output_type": "stream",
     "text": [
      "Pizza Palace\n",
      "Italian\n",
      "Pizza Palace Italian\n",
      "The restaurant is open\n"
     ]
    }
   ],
   "source": [
    "#Q8\n",
    "\n",
    "class Restaurant:\n",
    "    def __init__(self, restaurant_name, cuisine_type):\n",
    "        self.restaurant_name = restaurant_name\n",
    "        self.cuisine_type = cuisine_type\n",
    "\n",
    "    def describe_restaurant(self):\n",
    "        print(self.restaurant_name, self.cuisine_type)\n",
    "\n",
    "    def open_restaurant(self):\n",
    "        print(\"The restaurant is open\")\n",
    "\n",
    "restaurant = Restaurant(\"Pizza Palace\", \"Italian\")\n",
    "print(restaurant.restaurant_name)\n",
    "print(restaurant.cuisine_type)\n",
    "restaurant.describe_restaurant()\n",
    "restaurant.open_restaurant()\n"
   ]
  }
 ],
 "metadata": {
  "colab": {
   "provenance": [
    {
     "file_id": "1w7mron2KNF7F1qgW_cS6KSDReYlmfqjK",
     "timestamp": 1737466605021
    },
    {
     "file_id": "1hDiBCad9yy_7_YSnz_AFDKcle-LF9Tq9",
     "timestamp": 1737458835023
    }
   ]
  },
  "kernelspec": {
   "display_name": "Python 3",
   "name": "python3"
  },
  "language_info": {
   "codemirror_mode": {
    "name": "ipython",
    "version": 3
   },
   "file_extension": ".py",
   "mimetype": "text/x-python",
   "name": "python",
   "nbconvert_exporter": "python",
   "pygments_lexer": "ipython3",
   "version": "3.13.1"
  }
 },
 "nbformat": 4,
 "nbformat_minor": 0
}
